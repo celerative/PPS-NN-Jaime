{
 "cells": [
  {
   "cell_type": "markdown",
   "metadata": {},
   "source": [
    "# DeepTesla Jr."
   ]
  },
  {
   "cell_type": "code",
   "execution_count": 5,
   "metadata": {},
   "outputs": [
    {
     "name": "stdout",
     "output_type": "stream",
     "text": [
      "Train on 21600 samples, validate on 5400 samples\n",
      "Epoch 1/4\n",
      "21600/21600 [==============================] - 752s - loss: 5.5340 - val_loss: 16.4877\n",
      "Epoch 2/4\n",
      "21600/21600 [==============================] - 751s - loss: 4.2340 - val_loss: 11.8971\n",
      "Epoch 3/4\n",
      "21600/21600 [==============================] - 764s - loss: 3.8755 - val_loss: 8.0889\n",
      "Epoch 4/4\n",
      "21600/21600 [==============================] - 755s - loss: 3.8169 - val_loss: 5.5370\n"
     ]
    },
    {
     "data": {
      "text/plain": [
       "<keras.callbacks.History at 0x7fea75984a90>"
      ]
     },
     "execution_count": 5,
     "metadata": {},
     "output_type": "execute_result"
    }
   ],
   "source": [
    "from __future__ import print_function\n",
    "\n",
    "import keras\n",
    "from keras.models import Sequential\n",
    "from keras.layers import Dense, Dropout, Activation, Flatten\n",
    "from keras.layers import Conv2D, MaxPooling2D\n",
    "\n",
    "#from quiver_engine import server\n",
    "\n",
    "from PIL import Image\n",
    "import glob\n",
    "import os\n",
    "#import pickle\n",
    "import numpy as np\n",
    "#import scipy\n",
    "\n",
    "batch_size = 32\n",
    "epochs = 4\n",
    "#save_dir = os.path.join(os.getcwd(), 'saved_models')\n",
    "#model_name = 'deeptesla_trained_model.h5'\n",
    "\n",
    "filelist = glob.glob(\"/mnt/j/Datasets/deeptesla/training/*.jpg\")\n",
    "x_train = np.array([np.array(Image.open(fname)) for fname in filelist])\n",
    "filelist = glob.glob(\"/mnt/j/Datasets/deeptesla/validation/*.jpg\")\n",
    "x_test = np.array([np.array(Image.open(fname)) for fname in filelist])\n",
    "\n",
    "#x_train(\"/mnt/j/Datasets/deeptesla/training\")\n",
    "#x_test(\"/mnt/j/Datasets/deeptesla/validation\")\n",
    "\n",
    "y_train = np.genfromtxt(\"/mnt/j/Datasets/deeptesla/training.csv\", delimiter = ',')\n",
    "y_test = np.genfromtxt(\"/mnt/j/Datasets/deeptesla/validation.csv\", delimiter = ',')\n",
    "\n",
    "model = Sequential()\n",
    "model.add(Conv2D(8, (3, 3), padding = 'same',\n",
    "                input_shape = x_train[0].shape))\n",
    "model.add(Activation('relu'))\n",
    "\n",
    "model.add(Conv2D(16, (3, 3)))\n",
    "model.add(Activation('relu'))\n",
    "\n",
    "#model.add(MaxPooling2D(pool_size=(2, 2)))\n",
    "#model.add(Dropout(0.25))\n",
    "\n",
    "#model.add(Conv2D(64, (3, 3), padding='same'))\n",
    "#model.add(Activation('relu'))\n",
    "\n",
    "#model.add(Conv2D(8, (3, 3)))\n",
    "#model.add(Activation('relu'))\n",
    "\n",
    "model.add(MaxPooling2D(pool_size = (2, 2)))\n",
    "model.add(Dropout(0.25))\n",
    "\n",
    "model.add(Flatten())\n",
    "\n",
    "model.add(Dense(512))\n",
    "model.add(Activation('tanh'))\n",
    "\n",
    "model.add(Dropout(0.4))\n",
    "model.add(Dense(1))\n",
    "model.add(Activation('linear'))\n",
    "\n",
    "# The model using RMSprop\n",
    "model.compile(loss = 'mean_squared_error',\n",
    "              optimizer = 'adadelta')\n",
    "\n",
    "# Start Quiver\n",
    "#server.launch(model, input_folder = \"/mnt/j/Datasets/deeptesla/training\")\n",
    "\n",
    "x_train = x_train.astype('float32')\n",
    "x_test = x_test.astype('float32')\n",
    "x_train /= 255\n",
    "x_test /= 255\n",
    "\n",
    "model.fit(x_train, y_train,\n",
    "          batch_size = batch_size,\n",
    "          epochs = epochs,\n",
    "          validation_data = (x_test, y_test),\n",
    "          shuffle = False,\n",
    "          verbose = 1)\n",
    "\n",
    "# Save model and weights\n",
    "#if not os.path.isdir(save_dir):\n",
    "#    os.makedirs(save_dir)\n",
    "\n",
    "#model_path = os.path.join(save_dir, model_name)\n",
    "#model.save(model_path)\n",
    "\n",
    "#print('Saved trained model at %s ' % model_path)\n"
   ]
  }
 ],
 "metadata": {
  "kernelspec": {
   "display_name": "Python 3",
   "language": "python",
   "name": "python3"
  },
  "language_info": {
   "codemirror_mode": {
    "name": "ipython",
    "version": 3
   },
   "file_extension": ".py",
   "mimetype": "text/x-python",
   "name": "python",
   "nbconvert_exporter": "python",
   "pygments_lexer": "ipython3",
   "version": "3.5.2"
  }
 },
 "nbformat": 4,
 "nbformat_minor": 2
}
